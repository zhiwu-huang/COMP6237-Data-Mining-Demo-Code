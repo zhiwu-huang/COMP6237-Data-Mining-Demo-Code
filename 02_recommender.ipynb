{
 "cells": [
  {
   "cell_type": "code",
   "execution_count": 32,
   "metadata": {
    "slideshow": {
     "slide_type": "skip"
    }
   },
   "outputs": [],
   "source": [
    "import pandas as pd\n",
    "import numpy as np\n",
    "import matplotlib.pyplot as plt\n",
    "\n",
    "from scipy.sparse import csr_matrix, csc_matrix, bsr_matrix\n"
   ]
  },
  {
   "cell_type": "markdown",
   "metadata": {
    "slideshow": {
     "slide_type": "slide"
    }
   },
   "source": [
    "# Sparse formats"
   ]
  },
  {
   "cell_type": "markdown",
   "metadata": {
    "slideshow": {
     "slide_type": "-"
    }
   },
   "source": [
    "Example from notes CSR"
   ]
  },
  {
   "cell_type": "code",
   "execution_count": 33,
   "metadata": {
    "slideshow": {
     "slide_type": "-"
    }
   },
   "outputs": [
    {
     "data": {
      "text/plain": [
       "array([[ 1,  2,  0,  9],\n",
       "       [ 0,  0,  8,  2],\n",
       "       [-1,  4,  0,  5],\n",
       "       [ 0,  2,  7,  0]])"
      ]
     },
     "execution_count": 33,
     "metadata": {},
     "output_type": "execute_result"
    }
   ],
   "source": [
    "\n",
    "val =  np.array([1, 2, 9, 8, 2, -1, 4, 5, 2, 7])\n",
    "col_ind = np.array([1, 2, 4, 3, 4, 1, 2, 4, 2, 3])\n",
    "col_ind = col_ind - 1\n",
    "row_ptr = np.array([1, 4, 6, 9, 11] ) # last ptr is ghost row, nnz vals\n",
    "row_ptr = row_ptr - 1\n",
    "\n",
    "m = csr_matrix((val, col_ind, row_ptr))\n",
    "m.toarray()"
   ]
  },
  {
   "cell_type": "markdown",
   "metadata": {
    "slideshow": {
     "slide_type": "slide"
    }
   },
   "source": [
    "With an empty row"
   ]
  },
  {
   "cell_type": "code",
   "execution_count": 34,
   "metadata": {
    "slideshow": {
     "slide_type": "-"
    }
   },
   "outputs": [
    {
     "data": {
      "text/plain": [
       "array([[ 1,  2,  0,  9],\n",
       "       [ 0,  0,  8,  2],\n",
       "       [ 0,  0,  0,  0],\n",
       "       [-1,  4,  0,  5],\n",
       "       [ 0,  2,  7,  0]])"
      ]
     },
     "execution_count": 34,
     "metadata": {},
     "output_type": "execute_result"
    }
   ],
   "source": [
    "val =  np.array([1, 2, 9, 8, 2, -1, 4, 5, 2, 7])\n",
    "col_ind = np.array([1, 2, 4, 3, 4, 1, 2, 4, 2, 3])\n",
    "col_ind = col_ind - 1\n",
    "row_ptr = np.array([1, 4, 6, 6, 9, 11] ) # last ptr is ghost row, nnz vals\n",
    "row_ptr = row_ptr - 1\n",
    "\n",
    "m = csr_matrix((val, col_ind, row_ptr))\n",
    "m.toarray()"
   ]
  },
  {
   "cell_type": "markdown",
   "metadata": {
    "slideshow": {
     "slide_type": "slide"
    }
   },
   "source": [
    "With an empty column"
   ]
  },
  {
   "cell_type": "code",
   "execution_count": 35,
   "metadata": {
    "slideshow": {
     "slide_type": "-"
    }
   },
   "outputs": [
    {
     "data": {
      "text/plain": [
       "array([[ 3,  0,  0,  9],\n",
       "       [ 0,  0,  8,  2],\n",
       "       [-1,  0,  4,  5],\n",
       "       [ 0,  0,  7,  2]])"
      ]
     },
     "execution_count": 35,
     "metadata": {},
     "output_type": "execute_result"
    }
   ],
   "source": [
    "val =  np.array([1, 2, 9, 8, 2, -1, 4, 5, 2, 7])\n",
    "col_ind = np.array([1, 1, 4, 3, 4, 1, 3, 4, 4, 3])\n",
    "col_ind = col_ind - 1\n",
    "row_ptr = np.array([1, 4, 6, 9, 11] ) # last ptr is ghost row, nnz vals\n",
    "row_ptr = row_ptr - 1\n",
    "\n",
    "m = csr_matrix((val, col_ind, row_ptr))\n",
    "m.toarray()"
   ]
  },
  {
   "cell_type": "markdown",
   "metadata": {
    "slideshow": {
     "slide_type": "slide"
    }
   },
   "source": [
    "Example from notes CSC"
   ]
  },
  {
   "cell_type": "code",
   "execution_count": 36,
   "metadata": {
    "slideshow": {
     "slide_type": "-"
    }
   },
   "outputs": [
    {
     "data": {
      "text/plain": [
       "array([[2, 0, 3, 4],\n",
       "       [0, 0, 1, 0],\n",
       "       [0, 5, 0, 0],\n",
       "       [2, 0, 0, 0]])"
      ]
     },
     "execution_count": 36,
     "metadata": {},
     "output_type": "execute_result"
    }
   ],
   "source": [
    "val =  np.array( [2,2,5,3,1,4])\n",
    "row_ind = np.array([1,4,3,1,2,1])\n",
    "row_ind = row_ind - 1\n",
    "col_ptr = np.array([1,3,4,6,7]  )\n",
    "col_ptr = col_ptr - 1\n",
    "\n",
    "m = csc_matrix((val, row_ind, col_ptr))\n",
    "m.toarray()"
   ]
  },
  {
   "cell_type": "markdown",
   "metadata": {
    "slideshow": {
     "slide_type": "slide"
    }
   },
   "source": [
    "With an empty column"
   ]
  },
  {
   "cell_type": "code",
   "execution_count": 37,
   "metadata": {
    "slideshow": {
     "slide_type": "-"
    }
   },
   "outputs": [
    {
     "data": {
      "text/plain": [
       "array([[2, 0, 0, 3, 4],\n",
       "       [0, 0, 0, 1, 0],\n",
       "       [0, 5, 0, 0, 0],\n",
       "       [2, 0, 0, 0, 0]])"
      ]
     },
     "execution_count": 37,
     "metadata": {},
     "output_type": "execute_result"
    }
   ],
   "source": [
    "val =  np.array( [2,2,5,3,1,4])\n",
    "row_ind = np.array([1,4,3,1,2,1])\n",
    "row_ind = row_ind - 1\n",
    "col_ptr = np.array([1,3,4,4, 6,7]  )\n",
    "col_ptr = col_ptr - 1\n",
    "\n",
    "m = csc_matrix((val, row_ind, col_ptr))\n",
    "m.toarray()"
   ]
  },
  {
   "cell_type": "markdown",
   "metadata": {
    "slideshow": {
     "slide_type": "slide"
    }
   },
   "source": [
    "Example from notes, BSR"
   ]
  },
  {
   "cell_type": "code",
   "execution_count": 38,
   "metadata": {
    "slideshow": {
     "slide_type": "-"
    }
   },
   "outputs": [
    {
     "data": {
      "text/plain": [
       "array([[2, 0, 0, 0, 0, 0],\n",
       "       [3, 1, 0, 0, 0, 0],\n",
       "       [0, 0, 4, 7, 4, 5],\n",
       "       [0, 0, 3, 1, 3, 0],\n",
       "       [1, 0, 0, 0, 0, 0],\n",
       "       [0, 1, 0, 0, 0, 0]])"
      ]
     },
     "execution_count": 38,
     "metadata": {},
     "output_type": "execute_result"
    }
   ],
   "source": [
    "val =  np.array( [[[2,0],[3,1]], [[4,7],[3,1]], [[4,5],[3,0]],[[1,0],[0,1]]] )\n",
    "row_ind = np.array([1,2,3,1])\n",
    "row_ind = row_ind - 1\n",
    "col_ptr = np.array([1,2,4,5]  )\n",
    "col_ptr = col_ptr - 1\n",
    "\n",
    "m = bsr_matrix((val, row_ind, col_ptr))\n",
    "m.toarray()"
   ]
  },
  {
   "cell_type": "code",
   "execution_count": 39,
   "metadata": {
    "slideshow": {
     "slide_type": "skip"
    }
   },
   "outputs": [
    {
     "data": {
      "text/plain": [
       "array([[1, 1, 0, 0, 2, 2],\n",
       "       [1, 1, 0, 0, 2, 2],\n",
       "       [0, 0, 0, 0, 3, 3],\n",
       "       [0, 0, 0, 0, 3, 3],\n",
       "       [4, 4, 5, 5, 6, 6],\n",
       "       [4, 4, 5, 5, 6, 6]])"
      ]
     },
     "execution_count": 39,
     "metadata": {},
     "output_type": "execute_result"
    }
   ],
   "source": [
    "indptr = np.array([0, 2, 3, 6])\n",
    "indices = np.array([0, 2, 2, 0, 1, 2])\n",
    "data = np.array([1, 2, 3, 4, 5, 6]).repeat(4).reshape(6, 2, 2)\n",
    "bsr_matrix((data,indices,indptr), shape=(6, 6)).toarray()"
   ]
  },
  {
   "cell_type": "markdown",
   "metadata": {
    "slideshow": {
     "slide_type": "slide"
    }
   },
   "source": [
    "#  Recommender Example"
   ]
  },
  {
   "cell_type": "code",
   "execution_count": 41,
   "metadata": {
    "slideshow": {
     "slide_type": "-"
    }
   },
   "outputs": [
    {
     "data": {
      "text/html": [
       "<div>\n",
       "<style scoped>\n",
       "    .dataframe tbody tr th:only-of-type {\n",
       "        vertical-align: middle;\n",
       "    }\n",
       "\n",
       "    .dataframe tbody tr th {\n",
       "        vertical-align: top;\n",
       "    }\n",
       "\n",
       "    .dataframe thead th {\n",
       "        text-align: right;\n",
       "    }\n",
       "</style>\n",
       "<table border=\"1\" class=\"dataframe\">\n",
       "  <thead>\n",
       "    <tr style=\"text-align: right;\">\n",
       "      <th></th>\n",
       "      <th>Life is Beautiful</th>\n",
       "      <th>Seven Samurai</th>\n",
       "      <th>Joker</th>\n",
       "      <th>Schindler's List</th>\n",
       "      <th>The Pianist</th>\n",
       "      <th>City Of God</th>\n",
       "    </tr>\n",
       "  </thead>\n",
       "  <tbody>\n",
       "    <tr>\n",
       "      <th>Lee</th>\n",
       "      <td>2.5</td>\n",
       "      <td>3.5</td>\n",
       "      <td>3.0</td>\n",
       "      <td>3.5</td>\n",
       "      <td>3.0</td>\n",
       "      <td>2.5</td>\n",
       "    </tr>\n",
       "    <tr>\n",
       "      <th>Sofia</th>\n",
       "      <td>3.0</td>\n",
       "      <td>3.5</td>\n",
       "      <td>1.5</td>\n",
       "      <td>5.0</td>\n",
       "      <td>3.0</td>\n",
       "      <td>3.5</td>\n",
       "    </tr>\n",
       "    <tr>\n",
       "      <th>Miley</th>\n",
       "      <td>2.5</td>\n",
       "      <td>3.0</td>\n",
       "      <td>NaN</td>\n",
       "      <td>3.5</td>\n",
       "      <td>4.0</td>\n",
       "      <td>NaN</td>\n",
       "    </tr>\n",
       "    <tr>\n",
       "      <th>Justina</th>\n",
       "      <td>NaN</td>\n",
       "      <td>3.5</td>\n",
       "      <td>3.0</td>\n",
       "      <td>4.0</td>\n",
       "      <td>4.5</td>\n",
       "      <td>2.5</td>\n",
       "    </tr>\n",
       "    <tr>\n",
       "      <th>Donald</th>\n",
       "      <td>3.0</td>\n",
       "      <td>4.0</td>\n",
       "      <td>2.0</td>\n",
       "      <td>3.0</td>\n",
       "      <td>3.0</td>\n",
       "      <td>2.0</td>\n",
       "    </tr>\n",
       "    <tr>\n",
       "      <th>Mickey</th>\n",
       "      <td>3.0</td>\n",
       "      <td>4.0</td>\n",
       "      <td>NaN</td>\n",
       "      <td>5.0</td>\n",
       "      <td>3.0</td>\n",
       "      <td>3.5</td>\n",
       "    </tr>\n",
       "    <tr>\n",
       "      <th>Tristan</th>\n",
       "      <td>NaN</td>\n",
       "      <td>4.5</td>\n",
       "      <td>NaN</td>\n",
       "      <td>4.0</td>\n",
       "      <td>NaN</td>\n",
       "      <td>1.0</td>\n",
       "    </tr>\n",
       "  </tbody>\n",
       "</table>\n",
       "</div>"
      ],
      "text/plain": [
       "         Life is Beautiful  Seven Samurai  Joker  Schindler's List  \\\n",
       "Lee                    2.5            3.5    3.0               3.5   \n",
       "Sofia                  3.0            3.5    1.5               5.0   \n",
       "Miley                  2.5            3.0    NaN               3.5   \n",
       "Justina                NaN            3.5    3.0               4.0   \n",
       "Donald                 3.0            4.0    2.0               3.0   \n",
       "Mickey                 3.0            4.0    NaN               5.0   \n",
       "Tristan                NaN            4.5    NaN               4.0   \n",
       "\n",
       "         The Pianist  City Of God  \n",
       "Lee              3.0          2.5  \n",
       "Sofia            3.0          3.5  \n",
       "Miley            4.0          NaN  \n",
       "Justina          4.5          2.5  \n",
       "Donald           3.0          2.0  \n",
       "Mickey           3.0          3.5  \n",
       "Tristan          NaN          1.0  "
      ]
     },
     "execution_count": 41,
     "metadata": {},
     "output_type": "execute_result"
    }
   ],
   "source": [
    "data = {\"Life is Beautiful\":np.array([2.5, 3.0, 2.5, 'nan', 3, 3, 'nan'], dtype=np.double), \"Seven Samurai\": np.array([3.5, 3.5, 3.0, 3.5, 4, 4, 4.5], dtype=np.double),\n",
    "        \"Joker\": np.array([3.0,1.5,'nan',3,2,'nan','nan'], dtype=np.double),  \"Schindler's List\": np.array([3.5,5,3.5,4.0,3,5,4], dtype=np.double), \n",
    "        \"The Pianist\": np.array([3,3,4,4.5,3,3,'nan'], dtype=np.double), \"City Of God\":np.array([2.5,3.5,'nan',2.5,2.0,3.5,1], dtype=np.double)}\n",
    "users = [\"Lee\", \"Sofia\", \"Miley\", \"Justina\", \"Donald\", \"Mickey\", \"Tristan\"]\n",
    "films = [\"Life is Beautiful\", \"Seven Samurai\",\"Joker\",\"Schindler's List\",\"The Pianist\",\"City Of God\"]\n",
    "film_labels = [\"Life\", \"Seven\", \"Joker\", \"List\", \"Pianist\", \"City\"]\n",
    "film_dict = dict(zip(films, film_labels))\n",
    "df = pd.DataFrame(data, index = users)\n",
    "df"
   ]
  },
  {
   "cell_type": "code",
   "execution_count": 42,
   "metadata": {
    "slideshow": {
     "slide_type": "skip"
    }
   },
   "outputs": [],
   "source": [
    "#routine to plot sparse vector points. iterates through vector, if either one or the other are NaN, then does not plot that point. \n",
    "%matplotlib inline\n",
    "def make_mask(x,y, labels):\n",
    "    plot_point=[]\n",
    "    for i in range(len(x)):\n",
    "        if (np.isnan(x[i]) or np.isnan(y[i])):\n",
    "            continue\n",
    "        else:\n",
    "            plot_point.append(labels[i])\n",
    "    return plot_point\n",
    "\n"
   ]
  },
  {
   "cell_type": "markdown",
   "metadata": {
    "slideshow": {
     "slide_type": "slide"
    }
   },
   "source": [
    "# Visualisation of users in film space"
   ]
  },
  {
   "cell_type": "code",
   "execution_count": 43,
   "metadata": {
    "slideshow": {
     "slide_type": "-"
    }
   },
   "outputs": [
    {
     "data": {
      "image/png": "[encoded data removed]",
      "text/plain": [
       "<Figure size 432x288 with 1 Axes>"
      ]
     },
     "metadata": {
      "needs_background": "light"
     },
     "output_type": "display_data"
    }
   ],
   "source": [
    "x = \"Joker\"\n",
    "y = \"Schindler's List\"\n",
    "plot_mask = make_mask(df[x],df[y], users )\n",
    "x_vals = df[x].loc[plot_mask]\n",
    "y_vals = df[y].loc[plot_mask]\n",
    "fig, ax = plt.subplots()\n",
    "ax.plot(x_vals,y_vals, 'b.')\n",
    "plt.grid()\n",
    "plt.axis([0,5.5,0,5.5])\n",
    "plt.xlabel(x)\n",
    "plt.ylabel(y)\n",
    "for user in plot_mask:\n",
    "    ax.annotate(user, (x_vals[user], y_vals[user]))"
   ]
  },
  {
   "cell_type": "markdown",
   "metadata": {
    "slideshow": {
     "slide_type": "slide"
    }
   },
   "source": [
    "# Plotting correlations between users using pearson similarity"
   ]
  },
  {
   "cell_type": "code",
   "execution_count": 44,
   "metadata": {
    "slideshow": {
     "slide_type": "skip"
    }
   },
   "outputs": [],
   "source": [
    "def abline(slope, intercept):\n",
    "    \"\"\"Plot a line from slope and intercept\"\"\"\n",
    "    axes = plt.gca()\n",
    "    x_vals = np.array(axes.get_xlim())\n",
    "    y_vals = intercept + slope * x_vals\n",
    "    plt.plot(x_vals, y_vals, '--')\n",
    "    \n",
    "def pearson(x, y):\n",
    "    x_bar =  np.mean(x)\n",
    "    y_bar = np.mean(y)\n",
    "    top = np.dot( (x-x_bar), (y-y_bar) )\n",
    "    bottom = np.sqrt( sum((x - x_bar)**2)) * np.sqrt(sum((y - y_bar)**2) )\n",
    "#     print(top, \"/\", bottom)\n",
    "    return top/bottom"
   ]
  },
  {
   "cell_type": "code",
   "execution_count": 46,
   "metadata": {
    "slideshow": {
     "slide_type": "-"
    }
   },
   "outputs": [
    {
     "name": "stdout",
     "output_type": "stream",
     "text": [
      "Pearson Correlation =  0.8934051474415642\n"
     ]
    },
    {
     "data": {
      "image/png": "[encoded data removed]",
      "text/plain": [
       "<Figure size 432x288 with 1 Axes>"
      ]
     },
     "metadata": {
      "needs_background": "light"
     },
     "output_type": "display_data"
    }
   ],
   "source": [
    "x = \"Tristan\"\n",
    "y = \"Justina\"\n",
    "film_mask = make_mask(df.loc[x], df.loc[y], films)\n",
    "x_vals = df[film_mask].loc[x]\n",
    "y_vals = df[film_mask].loc[y]\n",
    "fig, ax = plt.subplots()\n",
    "ax.plot(x_vals,y_vals, 'b.')\n",
    "plt.grid()\n",
    "plt.axis([0,5.5,0,5.5])\n",
    "plt.xlabel(x)\n",
    "plt.ylabel(y)\n",
    "for film in film_mask:\n",
    "    ax.annotate(film_dict[film], (x_vals[film], y_vals[film]))\n",
    "p = pearson(x_vals, y_vals)\n",
    "print(\"Pearson Correlation = \", p)\n",
    "coeff = np.polyfit(x_vals,y_vals,1)\n",
    "abline(coeff[0], coeff[1])"
   ]
  },
  {
   "cell_type": "markdown",
   "metadata": {
    "slideshow": {
     "slide_type": "slide"
    }
   },
   "source": [
    "# Ranking users by similarity"
   ]
  },
  {
   "cell_type": "code",
   "execution_count": 47,
   "metadata": {
    "slideshow": {
     "slide_type": "skip"
    }
   },
   "outputs": [],
   "source": [
    "import numpy.linalg as la\n",
    "def euclid_dist(x, y):\n",
    "    tot = 0\n",
    "    for i in range(len(x)):\n",
    "        diff = (x[i] - y[i])**2\n",
    "        tot +=diff\n",
    "    return np.sqrt(tot)\n",
    "\n",
    "def euclid_sim(x,y):\n",
    "    dist = euclid_dist(x,y)\n",
    "    return 1/(1+dist)\n",
    "\n",
    "def cos_sim(x,y):\n",
    "    sim = np.dot(x,y)/(np.sqrt(sum(x**2))*np.sqrt(sum(y**2)))\n",
    "    return sim\n",
    "\n",
    "def rank(user1, df, sim=pearson, n = None, print_out=True):\n",
    "    users = list(df.index)\n",
    "    if not n:\n",
    "        n = len(users)-1\n",
    "    us = users.copy()\n",
    "    us.remove(user1)\n",
    "    similarities=[]\n",
    "    fs = list(df.columns)\n",
    "    \n",
    "    for user2 in us:\n",
    "        film_mask = make_mask(df.loc[user1], df.loc[user2], fs)\n",
    "        x_vals = df[film_mask].loc[user1]\n",
    "        y_vals = df[film_mask].loc[user2]\n",
    "        s = sim(x_vals, y_vals)\n",
    "        similarities.append(s)\n",
    "        \n",
    "    sim_dict = dict(zip(us, similarities))\n",
    "    top_match = []\n",
    "    if print_out:\n",
    "        print(\"Top %d closest to %s \\n\" % (n, user1))\n",
    "    for key, value in sorted(sim_dict.items(), key=lambda item: (item[1], item[0]), reverse=True):\n",
    "        top_match.append(((key), value))\n",
    "        if print_out:\n",
    "            print(key, value)\n",
    "    if print_out:\n",
    "        print(\"\\n\")\n",
    "    return top_match\n"
   ]
  },
  {
   "cell_type": "code",
   "execution_count": 49,
   "metadata": {
    "slideshow": {
     "slide_type": "-"
    }
   },
   "outputs": [
    {
     "name": "stdout",
     "output_type": "stream",
     "text": [
      "Using cosine similarity metric \n",
      "\n",
      "Top 6 closest to Lee \n",
      "\n",
      "Mickey 0.9912758269345802\n",
      "Justina 0.986586764527925\n",
      "Miley 0.9859858031677182\n",
      "Donald 0.9818313856641693\n",
      "Sofia 0.9606463013980241\n",
      "Tristan 0.9528927449621697\n",
      "\n",
      "\n"
     ]
    }
   ],
   "source": [
    "u1 = \"Lee\"\n",
    "print(\"Using cosine similarity metric \\n\")\n",
    "top_matches = rank(u1, df, sim=cos_sim) "
   ]
  },
  {
   "cell_type": "code",
   "execution_count": 50,
   "metadata": {
    "slideshow": {
     "slide_type": "slide"
    }
   },
   "outputs": [
    {
     "name": "stdout",
     "output_type": "stream",
     "text": [
      "Using Pearson similarity metric \n",
      "\n",
      "Top 6 closest to Lee \n",
      "\n",
      "Tristan 0.9912407071619304\n",
      "Mickey 0.747017880833996\n",
      "Donald 0.5940885257860046\n",
      "Justina 0.5669467095138409\n",
      "Miley 0.40451991747794525\n",
      "Sofia 0.39605901719066977\n",
      "\n",
      "\n"
     ]
    }
   ],
   "source": [
    "print(\"Using Pearson similarity metric \\n\")\n",
    "top_matches = rank(u1,  df) "
   ]
  },
  {
   "cell_type": "markdown",
   "metadata": {
    "slideshow": {
     "slide_type": "slide"
    }
   },
   "source": [
    "# Item - Item Similarity"
   ]
  },
  {
   "cell_type": "code",
   "execution_count": 52,
   "metadata": {
    "slideshow": {
     "slide_type": "-"
    }
   },
   "outputs": [
    {
     "name": "stdout",
     "output_type": "stream",
     "text": [
      "Top 5 closest to Schindler's List \n",
      "\n",
      "City Of God 0.657951694959769\n",
      "Life is Beautiful 0.48795003647426655\n",
      "Seven Samurai 0.1118033988749895\n",
      "The Pianist -0.1798471947990542\n",
      "Joker -0.42289003161103106\n",
      "\n",
      "\n"
     ]
    },
    {
     "data": {
      "text/plain": [
       "[('City Of God', 0.657951694959769),\n",
       " ('Life is Beautiful', 0.48795003647426655),\n",
       " ('Seven Samurai', 0.1118033988749895),\n",
       " ('The Pianist', -0.1798471947990542),\n",
       " ('Joker', -0.42289003161103106)]"
      ]
     },
     "execution_count": 52,
     "metadata": {},
     "output_type": "execute_result"
    }
   ],
   "source": [
    "rank(\"Schindler's List\", df.T)"
   ]
  },
  {
   "cell_type": "markdown",
   "metadata": {
    "slideshow": {
     "slide_type": "slide"
    }
   },
   "source": [
    "# Precomputing Item Similarity"
   ]
  },
  {
   "cell_type": "code",
   "execution_count": 53,
   "metadata": {
    "slideshow": {
     "slide_type": "-"
    }
   },
   "outputs": [],
   "source": [
    "def calc_similar_items(df, similarity=pearson, n = 2):\n",
    "    t_df = df.T\n",
    "    items = list(t_df.index)\n",
    "    ret={}\n",
    "    for item in items:\n",
    "        r = rank(item, t_df, sim=similarity, print_out=False)\n",
    "        ret[item] = r[:n]\n",
    "    return ret"
   ]
  },
  {
   "cell_type": "code",
   "execution_count": 54,
   "metadata": {
    "slideshow": {
     "slide_type": "-"
    }
   },
   "outputs": [
    {
     "data": {
      "text/plain": [
       "{'Life is Beautiful': [('Seven Samurai', 0.7637626158259732),\n",
       "  (\"Schindler's List\", 0.48795003647426655)],\n",
       " 'Seven Samurai': [('Life is Beautiful', 0.7637626158259732),\n",
       "  (\"Schindler's List\", 0.1118033988749895)],\n",
       " 'Joker': [('The Pianist', 0.5555555555555556),\n",
       "  ('Seven Samurai', -0.3333333333333333)],\n",
       " \"Schindler's List\": [('City Of God', 0.657951694959769),\n",
       "  ('Life is Beautiful', 0.48795003647426655)],\n",
       " 'The Pianist': [('Joker', 0.5555555555555556),\n",
       "  (\"Schindler's List\", -0.1798471947990542)],\n",
       " 'City Of God': [(\"Schindler's List\", 0.657951694959769),\n",
       "  ('Life is Beautiful', 0.3333333333333333)]}"
      ]
     },
     "execution_count": 54,
     "metadata": {},
     "output_type": "execute_result"
    }
   ],
   "source": [
    "calc_similar_items(df)"
   ]
  },
  {
   "cell_type": "markdown",
   "metadata": {
    "slideshow": {
     "slide_type": "slide"
    }
   },
   "source": [
    "# Item - based recommendation"
   ]
  },
  {
   "cell_type": "code",
   "execution_count": 55,
   "metadata": {
    "slideshow": {
     "slide_type": "-"
    }
   },
   "outputs": [],
   "source": [
    "def get_recommended_items(user, df, similarity = pearson, limit=6):\n",
    "    \"\"\"\n",
    "    returns predicted ratings for user for each of the films not rated so far\n",
    "    \"\"\"\n",
    "    films = df.columns\n",
    "    sim_dict = calc_similar_items(df, similarity=similarity, n=6)\n",
    "    rate_dict={}\n",
    "    for film in df.columns:\n",
    "        if np.isnan(df[film].loc[user]):\n",
    "            sim_sum = 0\n",
    "            rate_sim_sum = 0\n",
    "            for sim_film in sim_dict[film]:\n",
    "                if not np.isnan(df[sim_film[0]].loc[user]):\n",
    "                    sim = sim_film[1]\n",
    "                    rate = df[sim_film[0]].loc[user]\n",
    "                    rate_sim_sum += sim*rate\n",
    "                    sim_sum += sim\n",
    "            est_rating = rate_sim_sum/sim_sum\n",
    "            rate_dict[est_rating] = film\n",
    "    rates = list(rate_dict.keys())\n",
    "    if limit>len(rates):\n",
    "        limit=len(rates)\n",
    "    rates.sort(reverse=True)\n",
    "    rates = rates[:limit]\n",
    "    for rate in rates:\n",
    "        print(rate_dict[rate], \"%0.2f\" %rate)\n",
    "\n"
   ]
  },
  {
   "cell_type": "code",
   "execution_count": 56,
   "metadata": {
    "slideshow": {
     "slide_type": "slide"
    }
   },
   "outputs": [
    {
     "name": "stdout",
     "output_type": "stream",
     "text": [
      "The Pianist 3.17\n",
      "Joker 2.94\n",
      "Life is Beautiful 2.87\n"
     ]
    }
   ],
   "source": [
    "get_recommended_items(\"Tristan\", df, similarity=euclid_sim) "
   ]
  },
  {
   "cell_type": "code",
   "execution_count": 57,
   "metadata": {
    "slideshow": {
     "slide_type": "-"
    }
   },
   "outputs": [
    {
     "name": "stdout",
     "output_type": "stream",
     "text": [
      "Life is Beautiful 3.61\n",
      "The Pianist 3.53\n",
      "Joker 2.96\n"
     ]
    }
   ],
   "source": [
    "get_recommended_items(\"Tristan\", df, similarity=pearson) "
   ]
  },
  {
   "cell_type": "code",
   "execution_count": 58,
   "metadata": {
    "slideshow": {
     "slide_type": "-"
    }
   },
   "outputs": [
    {
     "name": "stdout",
     "output_type": "stream",
     "text": [
      "Joker 3.19\n",
      "The Pianist 3.18\n",
      "Life is Beautiful 3.18\n"
     ]
    }
   ],
   "source": [
    "get_recommended_items(\"Tristan\", df, similarity=cos_sim) "
   ]
  },
  {
   "cell_type": "code",
   "execution_count": 60,
   "metadata": {
    "slideshow": {
     "slide_type": "skip"
    }
   },
   "outputs": [
    {
     "name": "stdout",
     "output_type": "stream",
     "text": [
      "The Pianist 3.35\n",
      "Life is Beautiful 2.83\n",
      "Joker 2.53\n"
     ]
    }
   ],
   "source": [
    "get_recommendation(\"Tristan\", df)"
   ]
  },
  {
   "cell_type": "code",
   "execution_count": null,
   "metadata": {},
   "outputs": [],
   "source": []
  }
 ],
 "metadata": {
  "celltoolbar": "Slideshow",
  "kernelspec": {
   "display_name": "Python 3 (ipykernel)",
   "language": "python",
   "name": "python3"
  },
  "language_info": {
   "codemirror_mode": {
    "name": "ipython",
    "version": 3
   },
   "file_extension": ".py",
   "mimetype": "text/x-python",
   "name": "python",
   "nbconvert_exporter": "python",
   "pygments_lexer": "ipython3",
   "version": "3.9.7"
  }
 },
 "nbformat": 4,
 "nbformat_minor": 2
}
